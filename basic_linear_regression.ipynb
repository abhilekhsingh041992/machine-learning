{
  "nbformat": 4,
  "nbformat_minor": 0,
  "metadata": {
    "colab": {
      "name": "basic-linear-regression.ipynb",
      "version": "0.3.2",
      "provenance": [],
      "include_colab_link": true
    },
    "kernelspec": {
      "name": "python3",
      "display_name": "Python 3"
    }
  },
  "cells": [
    {
      "cell_type": "markdown",
      "metadata": {
        "id": "view-in-github",
        "colab_type": "text"
      },
      "source": [
        "<a href=\"https://colab.research.google.com/github/abhilekhsingh041992/machine-learning/blob/master/basic_linear_regression.ipynb\" target=\"_parent\"><img src=\"https://colab.research.google.com/assets/colab-badge.svg\" alt=\"Open In Colab\"/></a>"
      ]
    },
    {
      "cell_type": "code",
      "metadata": {
        "id": "hEpPmaoSu1Zh",
        "colab_type": "code",
        "outputId": "944b5d36-c9a3-4135-c595-19c11c73fa77",
        "colab": {
          "base_uri": "https://localhost:8080/",
          "height": 538
        }
      },
      "source": [
        "import tensorflow as tf\n",
        "import numpy as np\n",
        "import matplotlib.pyplot as plt \n",
        "\n",
        "class StraightLineModel:\n",
        "  \n",
        "  def model(self, X, w):                                                           \n",
        "    return tf.multiply(X, w)\n",
        "\n",
        "\n",
        "  def run(self):\n",
        "    x_train = np.linspace(-1, 1, 101)                                  \n",
        "    y_train = 2 * x_train + np.random.randn(*x_train.shape) * 0.33     \n",
        "\n",
        "    plt.scatter(x_train, y_train)                                      \n",
        "    plt.show()                      \n",
        "\n",
        "\n",
        "    X = tf.placeholder(tf.float32)\n",
        "    Y = tf.placeholder(tf.float32)\n",
        "\n",
        "    learning_rate = 0.01                                                       \n",
        "    training_epochs = 50 \n",
        "\n",
        "    w = tf.Variable(0.0, name=\"weights\") \n",
        "    model_y = model(X, w)\n",
        "\n",
        "    cost = tf.square(Y - model_y)\n",
        "\n",
        "    train_op = tf.train.GradientDescentOptimizer(learning_rate).minimize(cost)\n",
        "\n",
        "\n",
        "    with tf.Session() as sess:\n",
        "      init = tf.global_variables_initializer()                                   \n",
        "      sess.run(init) \n",
        "\n",
        "      for epoch in range(training_epochs):\n",
        "        for (x, y) in zip(x_train, y_train):\n",
        "\n",
        "          sess.run(train_op, feed_dict={X: x, Y: y})  \n",
        "\n",
        "          #print(x, y,  sess.run(w))\n",
        "\n",
        "      w_val = sess.run(w) \n",
        "\n",
        "\n",
        "      print(w_val)\n",
        "\n",
        "      plt.scatter(x_train, y_train)                                              \n",
        "      y_learned = x_train*w_val                                                  \n",
        "      plt.plot(x_train, y_learned, 'r')                                          \n",
        "      plt.show()\n",
        "      \n",
        "      \n",
        "class PolyLineModel:\n",
        "  num_coeffs = 6  \n",
        "  \n",
        "  def get_data(self):\n",
        "    trX = np.linspace(-1, 1, 101)                                              \n",
        "\n",
        "                                                               \n",
        "    trY_coeffs = [1, 2, 3, 4, 5, 6]                                            \n",
        "    trY = 0                                                                    \n",
        "    for i in range(PolyLineModel.num_coeffs):                                                \n",
        "        trY += trY_coeffs[i] * np.power(trX, i)                                \n",
        "\n",
        "    trY += np.random.randn(*trX.shape) * 1.5                                   \n",
        "\n",
        "    plt.scatter(trX, trY)                                                      \n",
        "    plt.show()\n",
        "    \n",
        "    return trX, trY\n",
        "  \n",
        "  def model(self, X, w):                                                           \n",
        "    terms = []                                                             \n",
        "    for i in range(PolyLineModel.num_coeffs):                                            \n",
        "        term = tf.multiply(w[i], tf.pow(X, i))                             \n",
        "        terms.append(term)                                                 \n",
        "    return tf.add_n(terms) \n",
        "  \n",
        "  \n",
        "  def run(self):\n",
        "    trX, trY = self.get_data()\n",
        "    \n",
        "    X = tf.placeholder(tf.float32)\n",
        "    Y = tf.placeholder(tf.float32)\n",
        "    \n",
        "    learning_rate = 0.01                                                       \n",
        "    training_epochs = 100 \n",
        "\n",
        "    #w = tf.Variable(0.0, name=\"weights\") \n",
        "    w = tf.Variable([0.] * PolyLineModel.num_coeffs, name=\"parameters\")\n",
        "    \n",
        "    model_y = self.model(X, w)\n",
        "\n",
        "    cost = tf.square(Y - model_y)\n",
        "    #cost = (tf.pow(Y-model_y, 2))  \n",
        "\n",
        "    train_op = tf.train.GradientDescentOptimizer(learning_rate).minimize(cost)\n",
        "\n",
        "\n",
        "    with tf.Session() as sess:\n",
        "      init = tf.global_variables_initializer()                                   \n",
        "      sess.run(init) \n",
        "\n",
        "      for epoch in range(training_epochs):\n",
        "        for (x, y) in zip(trX, trY):\n",
        "\n",
        "          sess.run(train_op, feed_dict={X: x, Y: y})  \n",
        "\n",
        "          #print(x, y,  sess.run(w))\n",
        "\n",
        "      w_val = sess.run(w) \n",
        "      print(w_val)\n",
        "\n",
        "      plt.scatter(trX, trY)                                              \n",
        "#       y_learned = trX*w_val  \n",
        "      trY2 = 0\n",
        "      for i in range(PolyLineModel.num_coeffs):\n",
        "        trY2 += w_val[i] * np.power(trX, i)\n",
        "      \n",
        "      plt.plot(trX, trY2, 'r')                                          \n",
        "      plt.show()\n",
        "      \n",
        "      \n",
        "# straight_line_model = StraightLineModel()\n",
        "# straight_line_model.run()\n",
        "\n",
        "poly_line_model = PolyLineModel()\n",
        "poly_line_model.run()\n"
      ],
      "execution_count": 0,
      "outputs": [
        {
          "output_type": "display_data",
          "data": {
            "image/png": "[encoded data removed]",
            "text/plain": [
              "<Figure size 432x288 with 1 Axes>"
            ]
          },
          "metadata": {
            "tags": []
          }
        },
        {
          "output_type": "stream",
          "text": [
            "[0.928212  1.9707398 3.4277093 5.9179373 4.1944637 4.26064  ]\n"
          ],
          "name": "stdout"
        },
        {
          "output_type": "display_data",
          "data": {
            "image/png": "[encoded data removed]",
            "text/plain": [
              "<Figure size 432x288 with 1 Axes>"
            ]
          },
          "metadata": {
            "tags": []
          }
        }
      ]
    },
    {
      "cell_type": "code",
      "metadata": {
        "id": "Xs603jzp-iYL",
        "colab_type": "code",
        "colab": {}
      },
      "source": [
        ""
      ],
      "execution_count": 0,
      "outputs": []
    }
  ]
}